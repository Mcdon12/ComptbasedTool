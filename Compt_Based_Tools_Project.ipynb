{
 "cells": [
  {
   "cell_type": "markdown",
   "metadata": {
    "id": "gALQuBOce20y"
   },
   "source": [
    "# About DataSet\n",
    "\n",
    "---\n",
    "1. Age : Age of the patient\n",
    "2. Sex : Sex of the patient\n",
    "3. exang: exercise induced angina (1 = yes; 0 = no)\n",
    "4. ca: number of major vessels (0-3)\n",
    "5. cp : Chest Pain type chest pain type\n",
    "    Value 1: typical angina\n",
    "    Value 2: atypical angina\n",
    "    Value 3: non-anginal pain\n",
    "    Value 4: asymptomatic trtbps : resting blood pressure (in mm Hg)\n",
    "6. chol : cholestoral in mg/dl fetched via BMI sensor\n",
    "7. fbs : (fasting blood sugar > 120 mg/dl) (1 = true; 0 = false)\n",
    "8. rest_ecg : resting electrocardiographic results\n",
    "    Value 0: normal\n",
    "    Value 1: having ST-T wave abnormality (T wave inversions and/or ST elevation or depression of > 0.05 mV)\n",
    "    Value 2: showing probable or definite left ventricular hypertrophy by Estes' criteria thalach : maximum heart rate achieved\n",
    "9. target :\n",
    "    0= less chance of heart attack \n",
    "    1= more chance of heart attack\n",
    "10. trtbps: This is the blood pressure of the patient in its normal state. \n",
    "11. thalachh: The Maximum heart rate achieved\n",
    "12. output: Our target prediction \n",
    "\n",
    "---\n"
   ]
  },
  {
   "cell_type": "code",
   "execution_count": 125,
   "metadata": {
    "id": "6qX_7XFOeykj"
   },
   "outputs": [],
   "source": [
    "#Importing all the frameworks we will need to import process and predict.\n",
    "\n",
    "import pandas as pd\n",
    "import numpy as np\n",
    "import matplotlib.pyplot as plt\n",
    "import seaborn as sns\n",
    "sns.set_style('darkgrid')\n",
    "\n",
    "from sklearn.preprocessing import MaxAbsScaler,MinMaxScaler,RobustScaler\n",
    "from sklearn.neighbors import KNeighborsClassifier\n",
    "from sklearn.model_selection import train_test_split\n",
    "from sklearn.model_selection import cross_val_score\n",
    "from sklearn.model_selection import train_test_split\n",
    "from sklearn.linear_model import LogisticRegression\n",
    "import warnings\n",
    "warnings.simplefilter(action='ignore', category=FutureWarning)\n",
    "from sklearn.neural_network import MLPClassifier"
   ]
  },
  {
   "cell_type": "markdown",
   "metadata": {
    "id": "y_53Y0QTiSNX"
   },
   "source": [
    "#  Dataset Exploration"
   ]
  },
  {
   "cell_type": "code",
   "execution_count": 22,
   "metadata": {
    "colab": {
     "base_uri": "https://localhost:8080/"
    },
    "id": "-3BwpqByhohT",
    "outputId": "f399c708-08bc-4815-e578-aa633830748c"
   },
   "outputs": [
    {
     "name": "stdout",
     "output_type": "stream",
     "text": [
      "/Users/mcdons/Downloads\r\n"
     ]
    }
   ],
   "source": [
    "!pwd\n",
    "df = pd.read_csv('/Users/mcdons/Downloads/heart.csv')\n"
   ]
  },
  {
   "cell_type": "code",
   "execution_count": 72,
   "metadata": {},
   "outputs": [
    {
     "data": {
      "text/html": [
       "<div>\n",
       "<style scoped>\n",
       "    .dataframe tbody tr th:only-of-type {\n",
       "        vertical-align: middle;\n",
       "    }\n",
       "\n",
       "    .dataframe tbody tr th {\n",
       "        vertical-align: top;\n",
       "    }\n",
       "\n",
       "    .dataframe thead th {\n",
       "        text-align: right;\n",
       "    }\n",
       "</style>\n",
       "<table border=\"1\" class=\"dataframe\">\n",
       "  <thead>\n",
       "    <tr style=\"text-align: right;\">\n",
       "      <th></th>\n",
       "      <th>age</th>\n",
       "      <th>sex</th>\n",
       "      <th>cp</th>\n",
       "      <th>trtbps</th>\n",
       "      <th>chol</th>\n",
       "      <th>fbs</th>\n",
       "      <th>restecg</th>\n",
       "      <th>thalachh</th>\n",
       "      <th>exng</th>\n",
       "      <th>oldpeak</th>\n",
       "      <th>slp</th>\n",
       "      <th>caa</th>\n",
       "      <th>thall</th>\n",
       "      <th>output</th>\n",
       "    </tr>\n",
       "  </thead>\n",
       "  <tbody>\n",
       "    <tr>\n",
       "      <th>203</th>\n",
       "      <td>68</td>\n",
       "      <td>1</td>\n",
       "      <td>2</td>\n",
       "      <td>180</td>\n",
       "      <td>274</td>\n",
       "      <td>1</td>\n",
       "      <td>0</td>\n",
       "      <td>150</td>\n",
       "      <td>1</td>\n",
       "      <td>1.6</td>\n",
       "      <td>1</td>\n",
       "      <td>0</td>\n",
       "      <td>3</td>\n",
       "      <td>0</td>\n",
       "    </tr>\n",
       "    <tr>\n",
       "      <th>8</th>\n",
       "      <td>52</td>\n",
       "      <td>1</td>\n",
       "      <td>2</td>\n",
       "      <td>172</td>\n",
       "      <td>199</td>\n",
       "      <td>1</td>\n",
       "      <td>1</td>\n",
       "      <td>162</td>\n",
       "      <td>0</td>\n",
       "      <td>0.5</td>\n",
       "      <td>2</td>\n",
       "      <td>0</td>\n",
       "      <td>3</td>\n",
       "      <td>1</td>\n",
       "    </tr>\n",
       "    <tr>\n",
       "      <th>60</th>\n",
       "      <td>71</td>\n",
       "      <td>0</td>\n",
       "      <td>2</td>\n",
       "      <td>110</td>\n",
       "      <td>265</td>\n",
       "      <td>1</td>\n",
       "      <td>0</td>\n",
       "      <td>130</td>\n",
       "      <td>0</td>\n",
       "      <td>0.0</td>\n",
       "      <td>2</td>\n",
       "      <td>1</td>\n",
       "      <td>2</td>\n",
       "      <td>1</td>\n",
       "    </tr>\n",
       "    <tr>\n",
       "      <th>171</th>\n",
       "      <td>48</td>\n",
       "      <td>1</td>\n",
       "      <td>1</td>\n",
       "      <td>110</td>\n",
       "      <td>229</td>\n",
       "      <td>0</td>\n",
       "      <td>1</td>\n",
       "      <td>168</td>\n",
       "      <td>0</td>\n",
       "      <td>1.0</td>\n",
       "      <td>0</td>\n",
       "      <td>0</td>\n",
       "      <td>3</td>\n",
       "      <td>0</td>\n",
       "    </tr>\n",
       "    <tr>\n",
       "      <th>23</th>\n",
       "      <td>61</td>\n",
       "      <td>1</td>\n",
       "      <td>2</td>\n",
       "      <td>150</td>\n",
       "      <td>243</td>\n",
       "      <td>1</td>\n",
       "      <td>1</td>\n",
       "      <td>137</td>\n",
       "      <td>1</td>\n",
       "      <td>1.0</td>\n",
       "      <td>1</td>\n",
       "      <td>0</td>\n",
       "      <td>2</td>\n",
       "      <td>1</td>\n",
       "    </tr>\n",
       "  </tbody>\n",
       "</table>\n",
       "</div>"
      ],
      "text/plain": [
       "     age  sex  cp  trtbps  chol  fbs  restecg  thalachh  exng  oldpeak  slp  \\\n",
       "203   68    1   2     180   274    1        0       150     1      1.6    1   \n",
       "8     52    1   2     172   199    1        1       162     0      0.5    2   \n",
       "60    71    0   2     110   265    1        0       130     0      0.0    2   \n",
       "171   48    1   1     110   229    0        1       168     0      1.0    0   \n",
       "23    61    1   2     150   243    1        1       137     1      1.0    1   \n",
       "\n",
       "     caa  thall  output  \n",
       "203    0      3       0  \n",
       "8      0      3       1  \n",
       "60     1      2       1  \n",
       "171    0      3       0  \n",
       "23     0      2       1  "
      ]
     },
     "execution_count": 72,
     "metadata": {},
     "output_type": "execute_result"
    }
   ],
   "source": [
    "df.sample(5)"
   ]
  },
  {
   "cell_type": "code",
   "execution_count": 14,
   "metadata": {
    "scrolled": true
   },
   "outputs": [
    {
     "data": {
      "text/html": [
       "<div>\n",
       "<style scoped>\n",
       "    .dataframe tbody tr th:only-of-type {\n",
       "        vertical-align: middle;\n",
       "    }\n",
       "\n",
       "    .dataframe tbody tr th {\n",
       "        vertical-align: top;\n",
       "    }\n",
       "\n",
       "    .dataframe thead th {\n",
       "        text-align: right;\n",
       "    }\n",
       "</style>\n",
       "<table border=\"1\" class=\"dataframe\">\n",
       "  <thead>\n",
       "    <tr style=\"text-align: right;\">\n",
       "      <th></th>\n",
       "      <th>age</th>\n",
       "      <th>sex</th>\n",
       "      <th>cp</th>\n",
       "      <th>trtbps</th>\n",
       "      <th>chol</th>\n",
       "      <th>fbs</th>\n",
       "      <th>restecg</th>\n",
       "      <th>thalachh</th>\n",
       "      <th>exng</th>\n",
       "      <th>oldpeak</th>\n",
       "      <th>slp</th>\n",
       "      <th>caa</th>\n",
       "      <th>thall</th>\n",
       "      <th>output</th>\n",
       "    </tr>\n",
       "  </thead>\n",
       "  <tbody>\n",
       "    <tr>\n",
       "      <th>count</th>\n",
       "      <td>303.000000</td>\n",
       "      <td>303.000000</td>\n",
       "      <td>303.000000</td>\n",
       "      <td>303.000000</td>\n",
       "      <td>303.000000</td>\n",
       "      <td>303.000000</td>\n",
       "      <td>303.000000</td>\n",
       "      <td>303.000000</td>\n",
       "      <td>303.000000</td>\n",
       "      <td>303.000000</td>\n",
       "      <td>303.000000</td>\n",
       "      <td>303.000000</td>\n",
       "      <td>303.000000</td>\n",
       "      <td>303.000000</td>\n",
       "    </tr>\n",
       "    <tr>\n",
       "      <th>mean</th>\n",
       "      <td>54.366337</td>\n",
       "      <td>0.683168</td>\n",
       "      <td>0.966997</td>\n",
       "      <td>131.623762</td>\n",
       "      <td>246.264026</td>\n",
       "      <td>0.148515</td>\n",
       "      <td>0.528053</td>\n",
       "      <td>149.646865</td>\n",
       "      <td>0.326733</td>\n",
       "      <td>1.039604</td>\n",
       "      <td>1.399340</td>\n",
       "      <td>0.729373</td>\n",
       "      <td>2.313531</td>\n",
       "      <td>0.544554</td>\n",
       "    </tr>\n",
       "    <tr>\n",
       "      <th>std</th>\n",
       "      <td>9.082101</td>\n",
       "      <td>0.466011</td>\n",
       "      <td>1.032052</td>\n",
       "      <td>17.538143</td>\n",
       "      <td>51.830751</td>\n",
       "      <td>0.356198</td>\n",
       "      <td>0.525860</td>\n",
       "      <td>22.905161</td>\n",
       "      <td>0.469794</td>\n",
       "      <td>1.161075</td>\n",
       "      <td>0.616226</td>\n",
       "      <td>1.022606</td>\n",
       "      <td>0.612277</td>\n",
       "      <td>0.498835</td>\n",
       "    </tr>\n",
       "    <tr>\n",
       "      <th>min</th>\n",
       "      <td>29.000000</td>\n",
       "      <td>0.000000</td>\n",
       "      <td>0.000000</td>\n",
       "      <td>94.000000</td>\n",
       "      <td>126.000000</td>\n",
       "      <td>0.000000</td>\n",
       "      <td>0.000000</td>\n",
       "      <td>71.000000</td>\n",
       "      <td>0.000000</td>\n",
       "      <td>0.000000</td>\n",
       "      <td>0.000000</td>\n",
       "      <td>0.000000</td>\n",
       "      <td>0.000000</td>\n",
       "      <td>0.000000</td>\n",
       "    </tr>\n",
       "    <tr>\n",
       "      <th>25%</th>\n",
       "      <td>47.500000</td>\n",
       "      <td>0.000000</td>\n",
       "      <td>0.000000</td>\n",
       "      <td>120.000000</td>\n",
       "      <td>211.000000</td>\n",
       "      <td>0.000000</td>\n",
       "      <td>0.000000</td>\n",
       "      <td>133.500000</td>\n",
       "      <td>0.000000</td>\n",
       "      <td>0.000000</td>\n",
       "      <td>1.000000</td>\n",
       "      <td>0.000000</td>\n",
       "      <td>2.000000</td>\n",
       "      <td>0.000000</td>\n",
       "    </tr>\n",
       "    <tr>\n",
       "      <th>50%</th>\n",
       "      <td>55.000000</td>\n",
       "      <td>1.000000</td>\n",
       "      <td>1.000000</td>\n",
       "      <td>130.000000</td>\n",
       "      <td>240.000000</td>\n",
       "      <td>0.000000</td>\n",
       "      <td>1.000000</td>\n",
       "      <td>153.000000</td>\n",
       "      <td>0.000000</td>\n",
       "      <td>0.800000</td>\n",
       "      <td>1.000000</td>\n",
       "      <td>0.000000</td>\n",
       "      <td>2.000000</td>\n",
       "      <td>1.000000</td>\n",
       "    </tr>\n",
       "    <tr>\n",
       "      <th>75%</th>\n",
       "      <td>61.000000</td>\n",
       "      <td>1.000000</td>\n",
       "      <td>2.000000</td>\n",
       "      <td>140.000000</td>\n",
       "      <td>274.500000</td>\n",
       "      <td>0.000000</td>\n",
       "      <td>1.000000</td>\n",
       "      <td>166.000000</td>\n",
       "      <td>1.000000</td>\n",
       "      <td>1.600000</td>\n",
       "      <td>2.000000</td>\n",
       "      <td>1.000000</td>\n",
       "      <td>3.000000</td>\n",
       "      <td>1.000000</td>\n",
       "    </tr>\n",
       "    <tr>\n",
       "      <th>max</th>\n",
       "      <td>77.000000</td>\n",
       "      <td>1.000000</td>\n",
       "      <td>3.000000</td>\n",
       "      <td>200.000000</td>\n",
       "      <td>564.000000</td>\n",
       "      <td>1.000000</td>\n",
       "      <td>2.000000</td>\n",
       "      <td>202.000000</td>\n",
       "      <td>1.000000</td>\n",
       "      <td>6.200000</td>\n",
       "      <td>2.000000</td>\n",
       "      <td>4.000000</td>\n",
       "      <td>3.000000</td>\n",
       "      <td>1.000000</td>\n",
       "    </tr>\n",
       "  </tbody>\n",
       "</table>\n",
       "</div>"
      ],
      "text/plain": [
       "              age         sex          cp      trtbps        chol         fbs  \\\n",
       "count  303.000000  303.000000  303.000000  303.000000  303.000000  303.000000   \n",
       "mean    54.366337    0.683168    0.966997  131.623762  246.264026    0.148515   \n",
       "std      9.082101    0.466011    1.032052   17.538143   51.830751    0.356198   \n",
       "min     29.000000    0.000000    0.000000   94.000000  126.000000    0.000000   \n",
       "25%     47.500000    0.000000    0.000000  120.000000  211.000000    0.000000   \n",
       "50%     55.000000    1.000000    1.000000  130.000000  240.000000    0.000000   \n",
       "75%     61.000000    1.000000    2.000000  140.000000  274.500000    0.000000   \n",
       "max     77.000000    1.000000    3.000000  200.000000  564.000000    1.000000   \n",
       "\n",
       "          restecg    thalachh        exng     oldpeak         slp         caa  \\\n",
       "count  303.000000  303.000000  303.000000  303.000000  303.000000  303.000000   \n",
       "mean     0.528053  149.646865    0.326733    1.039604    1.399340    0.729373   \n",
       "std      0.525860   22.905161    0.469794    1.161075    0.616226    1.022606   \n",
       "min      0.000000   71.000000    0.000000    0.000000    0.000000    0.000000   \n",
       "25%      0.000000  133.500000    0.000000    0.000000    1.000000    0.000000   \n",
       "50%      1.000000  153.000000    0.000000    0.800000    1.000000    0.000000   \n",
       "75%      1.000000  166.000000    1.000000    1.600000    2.000000    1.000000   \n",
       "max      2.000000  202.000000    1.000000    6.200000    2.000000    4.000000   \n",
       "\n",
       "            thall      output  \n",
       "count  303.000000  303.000000  \n",
       "mean     2.313531    0.544554  \n",
       "std      0.612277    0.498835  \n",
       "min      0.000000    0.000000  \n",
       "25%      2.000000    0.000000  \n",
       "50%      2.000000    1.000000  \n",
       "75%      3.000000    1.000000  \n",
       "max      3.000000    1.000000  "
      ]
     },
     "execution_count": 14,
     "metadata": {},
     "output_type": "execute_result"
    }
   ],
   "source": [
    "df.describe()"
   ]
  },
  {
   "cell_type": "code",
   "execution_count": 18,
   "metadata": {},
   "outputs": [
    {
     "name": "stdout",
     "output_type": "stream",
     "text": [
      "<class 'pandas.core.frame.DataFrame'>\n",
      "RangeIndex: 303 entries, 0 to 302\n",
      "Data columns (total 14 columns):\n",
      " #   Column    Non-Null Count  Dtype  \n",
      "---  ------    --------------  -----  \n",
      " 0   age       303 non-null    int64  \n",
      " 1   sex       303 non-null    int64  \n",
      " 2   cp        303 non-null    int64  \n",
      " 3   trtbps    303 non-null    int64  \n",
      " 4   chol      303 non-null    int64  \n",
      " 5   fbs       303 non-null    int64  \n",
      " 6   restecg   303 non-null    int64  \n",
      " 7   thalachh  303 non-null    int64  \n",
      " 8   exng      303 non-null    int64  \n",
      " 9   oldpeak   303 non-null    float64\n",
      " 10  slp       303 non-null    int64  \n",
      " 11  caa       303 non-null    int64  \n",
      " 12  thall     303 non-null    int64  \n",
      " 13  output    303 non-null    int64  \n",
      "dtypes: float64(1), int64(13)\n",
      "memory usage: 33.3 KB\n"
     ]
    }
   ],
   "source": [
    "df.info()"
   ]
  },
  {
   "cell_type": "code",
   "execution_count": 25,
   "metadata": {
    "scrolled": true
   },
   "outputs": [
    {
     "data": {
      "text/plain": [
       "(303, 14)"
      ]
     },
     "execution_count": 25,
     "metadata": {},
     "output_type": "execute_result"
    }
   ],
   "source": [
    "df.sample(5)\n",
    "df.shape"
   ]
  },
  {
   "cell_type": "code",
   "execution_count": 31,
   "metadata": {},
   "outputs": [
    {
     "name": "stdout",
     "output_type": "stream",
     "text": [
      "The number of missing data in each column :\n",
      "The total percentage of missing data is 0.0%\n",
      "age         0\n",
      "sex         0\n",
      "cp          0\n",
      "trtbps      0\n",
      "chol        0\n",
      "fbs         0\n",
      "restecg     0\n",
      "thalachh    0\n",
      "exng        0\n",
      "oldpeak     0\n",
      "slp         0\n",
      "caa         0\n",
      "thall       0\n",
      "output      0\n",
      "dtype: int64\n"
     ]
    }
   ],
   "source": [
    "# Lets make sure the dataSet we are working with contain no missing data\n",
    "print('The number of missing data in each column :')\n",
    "missingData = df.isnull().sum()\n",
    "total_percentage = (missingData.sum()/df.shape[0]) * 100\n",
    "print(f'The total percentage of missing data is {round(total_percentage,2)}%')\n",
    "\n",
    "print(missingData)"
   ]
  },
  {
   "cell_type": "markdown",
   "metadata": {
    "id": "k51VONNsiui9"
   },
   "source": [
    "#  EDA - Exploratory Data Analysis\n"
   ]
  },
  {
   "cell_type": "code",
   "execution_count": 43,
   "metadata": {
    "colab": {
     "base_uri": "https://localhost:8080/",
     "height": 716
    },
    "id": "jngw5HAfiPNs",
    "outputId": "93b00b1f-7363-46b2-80b5-e0308748c0c9",
    "scrolled": false
   },
   "outputs": [
    {
     "data": {
      "image/png": "[encoded data removed]",
      "text/plain": [
       "<Figure size 1152x720 with 8 Axes>"
      ]
     },
     "metadata": {},
     "output_type": "display_data"
    }
   ],
   "source": [
    "\n",
    "#Lets visualize what is going on with the numerical features only using boxplots. \n",
    "#we are excluding categorical features for this exploration because it may be a bit misleading\n",
    "numeric_features = ['age', 'sex', 'trtbps', 'chol', 'thalachh', 'oldpeak', 'slp', 'caa']\n",
    "\n",
    "df_Ada = df.loc[:, numeric_features].copy()\n",
    "plt.figure(figsize=(16, 10))\n",
    "\n",
    "for i in range(len(df_Ada.columns)):\n",
    "    plt.subplot(2, 4, i + 1)\n",
    "    sns.boxplot(df_Ada[df_Ada.columns[i]])\n",
    "\n",
    "plt.show()"
   ]
  },
  {
   "cell_type": "markdown",
   "metadata": {
    "id": "A4hjAuJElAII"
   },
   "source": [
    "Observation:\n",
    "We can see that from --- \n",
    "\n",
    "1.   Some of our data contains one two unique attributes which is expected. eg Sex\n",
    "2.   The majority of entries in the dataframe for age is between 55 -65 years old\n",
    "3. We have an attribute called target which is the likely hood for someone to have heart attack"
   ]
  },
  {
   "cell_type": "code",
   "execution_count": null,
   "metadata": {
    "id": "IJLsRDxyk5hP"
   },
   "outputs": [],
   "source": [
    "{column: len}"
   ]
  },
  {
   "cell_type": "code",
   "execution_count": 64,
   "metadata": {},
   "outputs": [
    {
     "data": {
      "image/png": "[encoded data removed]",
      "text/plain": [
       "<Figure size 864x720 with 2 Axes>"
      ]
     },
     "metadata": {},
     "output_type": "display_data"
    }
   ],
   "source": [
    "correlation = df_Ada.corr()\n",
    "\n",
    "plt.figure(figsize=(12, 10))\n",
    "sns.heatmap(correlation, annot=True, vmin=-1.0, linewidths=0.1, annot_kws={'size':10}, cmap='YlGnBu')\n",
    "plt.title(\"Correlation Heatmap\")\n",
    "plt.show()"
   ]
  },
  {
   "cell_type": "code",
   "execution_count": 89,
   "metadata": {
    "id": "cmCimAUNmVjt"
   },
   "outputs": [
    {
     "data": {
      "image/png": "[encoded data removed]",
      "text/plain": [
       "<Figure size 576x576 with 1 Axes>"
      ]
     },
     "metadata": {},
     "output_type": "display_data"
    }
   ],
   "source": [
    "#Visualizing the class distribution for of the target variable\n",
    "\n",
    "plt.figure(figsize=(8, 8))\n",
    "plt.pie(df['output'].value_counts(), labels=[\"With Heart Disease\", \"Without Heart Disease\"], autopct='%.1f%%',colors = ['lightblue','silver'])\n",
    "plt.title(\"Class Distribution\")\n",
    "plt.show() #test"
   ]
  },
  {
   "cell_type": "code",
   "execution_count": 91,
   "metadata": {
    "id": "8zO3HAOzuQQ4"
   },
   "outputs": [
    {
     "data": {
      "text/plain": [
       "<AxesSubplot:xlabel='age', ylabel='count'>"
      ]
     },
     "execution_count": 91,
     "metadata": {},
     "output_type": "execute_result"
    },
    {
     "data": {
      "image/png": "[encoded data removed]",
      "text/plain": [
       "<Figure size 1440x720 with 1 Axes>"
      ]
     },
     "metadata": {},
     "output_type": "display_data"
    }
   ],
   "source": [
    "sns.set(rc={\"figure.figsize\":(20, 10)})\n",
    "sns.countplot(x='age', hue=df['output'], data=df_Ada,)"
   ]
  },
  {
   "cell_type": "markdown",
   "metadata": {
    "id": "QtyNa0VTWNwt"
   },
   "source": [
    "**Observation**\n",
    " We can see that ther are outliers (spiking blues line in the plot) \n",
    " For the meantime, we are replacing these outliers with 3 times the standard devation"
   ]
  },
  {
   "cell_type": "markdown",
   "metadata": {
    "id": "1LUPG6j8xr9k"
   },
   "source": [
    "# Preprocessing"
   ]
  },
  {
   "cell_type": "code",
   "execution_count": 93,
   "metadata": {
    "id": "R8KdVMC8x1XU"
   },
   "outputs": [],
   "source": [
    "#Encoding the norminal features of the dataFrame\n",
    "def onehot_encode(df, column_dict):\n",
    "    df = df.copy() # makin a df copy so as not to manipulate the existing data set\n",
    "    for column, prefix in column_dict.items():\n",
    "        dummies = pd.get_dummies(df[column], prefix=prefix)\n",
    "        df = pd.concat([df, dummies], axis=1)\n",
    "        df = df.drop(column, axis=1)\n",
    "    return df\n",
    "\n"
   ]
  },
  {
   "cell_type": "code",
   "execution_count": 99,
   "metadata": {},
   "outputs": [],
   "source": [
    "#Preprocessing the scaler function to fit and transform the dataSet subseqient\n",
    "def preprocess_inputs(df, scaler):\n",
    "    df = df.copy()\n",
    "    \n",
    "    # One-hot encode the nominal features\n",
    "    nominal_features = ['cp', 'slp', 'thall']\n",
    "    df = onehot_encode(df, dict(zip(nominal_features, ['CP', 'SL', 'TH'])))\n",
    "    \n",
    "    # Split df into X and y\n",
    "    y = df['output'].copy()\n",
    "    X = df.drop('output', axis=1).copy() # where we are dropping the target column to predict\n",
    "    \n",
    "    # Scale X\n",
    "    X = pd.DataFrame(scaler.fit_transform(X), columns=X.columns)\n",
    "    \n",
    "    return X, y"
   ]
  },
  {
   "cell_type": "code",
   "execution_count": 113,
   "metadata": {
    "scrolled": true
   },
   "outputs": [
    {
     "data": {
      "text/html": [
       "<div>\n",
       "<style scoped>\n",
       "    .dataframe tbody tr th:only-of-type {\n",
       "        vertical-align: middle;\n",
       "    }\n",
       "\n",
       "    .dataframe tbody tr th {\n",
       "        vertical-align: top;\n",
       "    }\n",
       "\n",
       "    .dataframe thead th {\n",
       "        text-align: right;\n",
       "    }\n",
       "</style>\n",
       "<table border=\"1\" class=\"dataframe\">\n",
       "  <thead>\n",
       "    <tr style=\"text-align: right;\">\n",
       "      <th></th>\n",
       "      <th>age</th>\n",
       "      <th>sex</th>\n",
       "      <th>trtbps</th>\n",
       "      <th>chol</th>\n",
       "      <th>fbs</th>\n",
       "      <th>restecg</th>\n",
       "      <th>thalachh</th>\n",
       "      <th>exng</th>\n",
       "      <th>oldpeak</th>\n",
       "      <th>caa</th>\n",
       "      <th>...</th>\n",
       "      <th>CP_1</th>\n",
       "      <th>CP_2</th>\n",
       "      <th>CP_3</th>\n",
       "      <th>SL_0</th>\n",
       "      <th>SL_1</th>\n",
       "      <th>SL_2</th>\n",
       "      <th>TH_0</th>\n",
       "      <th>TH_1</th>\n",
       "      <th>TH_2</th>\n",
       "      <th>TH_3</th>\n",
       "    </tr>\n",
       "  </thead>\n",
       "  <tbody>\n",
       "    <tr>\n",
       "      <th>0</th>\n",
       "      <td>0.952197</td>\n",
       "      <td>0.681005</td>\n",
       "      <td>0.763956</td>\n",
       "      <td>-0.256334</td>\n",
       "      <td>2.394438</td>\n",
       "      <td>-1.005832</td>\n",
       "      <td>0.015443</td>\n",
       "      <td>-0.696631</td>\n",
       "      <td>1.087338</td>\n",
       "      <td>-0.714429</td>\n",
       "      <td>...</td>\n",
       "      <td>-0.444554</td>\n",
       "      <td>-0.634648</td>\n",
       "      <td>3.489114</td>\n",
       "      <td>3.664502</td>\n",
       "      <td>-0.926766</td>\n",
       "      <td>-0.939142</td>\n",
       "      <td>-0.081514</td>\n",
       "      <td>3.979112</td>\n",
       "      <td>-1.100763</td>\n",
       "      <td>-0.793116</td>\n",
       "    </tr>\n",
       "    <tr>\n",
       "      <th>1</th>\n",
       "      <td>-1.915313</td>\n",
       "      <td>0.681005</td>\n",
       "      <td>-0.092738</td>\n",
       "      <td>0.072199</td>\n",
       "      <td>-0.417635</td>\n",
       "      <td>0.898962</td>\n",
       "      <td>1.633471</td>\n",
       "      <td>-0.696631</td>\n",
       "      <td>2.122573</td>\n",
       "      <td>-0.714429</td>\n",
       "      <td>...</td>\n",
       "      <td>-0.444554</td>\n",
       "      <td>1.575677</td>\n",
       "      <td>-0.286606</td>\n",
       "      <td>3.664502</td>\n",
       "      <td>-0.926766</td>\n",
       "      <td>-0.939142</td>\n",
       "      <td>-0.081514</td>\n",
       "      <td>-0.251312</td>\n",
       "      <td>0.908461</td>\n",
       "      <td>-0.793116</td>\n",
       "    </tr>\n",
       "    <tr>\n",
       "      <th>2</th>\n",
       "      <td>-1.474158</td>\n",
       "      <td>-1.468418</td>\n",
       "      <td>-0.092738</td>\n",
       "      <td>-0.816773</td>\n",
       "      <td>-0.417635</td>\n",
       "      <td>-1.005832</td>\n",
       "      <td>0.977514</td>\n",
       "      <td>-0.696631</td>\n",
       "      <td>0.310912</td>\n",
       "      <td>-0.714429</td>\n",
       "      <td>...</td>\n",
       "      <td>2.249444</td>\n",
       "      <td>-0.634648</td>\n",
       "      <td>-0.286606</td>\n",
       "      <td>-0.272888</td>\n",
       "      <td>-0.926766</td>\n",
       "      <td>1.064802</td>\n",
       "      <td>-0.081514</td>\n",
       "      <td>-0.251312</td>\n",
       "      <td>0.908461</td>\n",
       "      <td>-0.793116</td>\n",
       "    </tr>\n",
       "    <tr>\n",
       "      <th>3</th>\n",
       "      <td>0.180175</td>\n",
       "      <td>0.681005</td>\n",
       "      <td>-0.663867</td>\n",
       "      <td>-0.198357</td>\n",
       "      <td>-0.417635</td>\n",
       "      <td>0.898962</td>\n",
       "      <td>1.239897</td>\n",
       "      <td>-0.696631</td>\n",
       "      <td>-0.206705</td>\n",
       "      <td>-0.714429</td>\n",
       "      <td>...</td>\n",
       "      <td>2.249444</td>\n",
       "      <td>-0.634648</td>\n",
       "      <td>-0.286606</td>\n",
       "      <td>-0.272888</td>\n",
       "      <td>-0.926766</td>\n",
       "      <td>1.064802</td>\n",
       "      <td>-0.081514</td>\n",
       "      <td>-0.251312</td>\n",
       "      <td>0.908461</td>\n",
       "      <td>-0.793116</td>\n",
       "    </tr>\n",
       "    <tr>\n",
       "      <th>4</th>\n",
       "      <td>0.290464</td>\n",
       "      <td>-1.468418</td>\n",
       "      <td>-0.663867</td>\n",
       "      <td>2.082050</td>\n",
       "      <td>-0.417635</td>\n",
       "      <td>0.898962</td>\n",
       "      <td>0.583939</td>\n",
       "      <td>1.435481</td>\n",
       "      <td>-0.379244</td>\n",
       "      <td>-0.714429</td>\n",
       "      <td>...</td>\n",
       "      <td>-0.444554</td>\n",
       "      <td>-0.634648</td>\n",
       "      <td>-0.286606</td>\n",
       "      <td>-0.272888</td>\n",
       "      <td>-0.926766</td>\n",
       "      <td>1.064802</td>\n",
       "      <td>-0.081514</td>\n",
       "      <td>-0.251312</td>\n",
       "      <td>0.908461</td>\n",
       "      <td>-0.793116</td>\n",
       "    </tr>\n",
       "  </tbody>\n",
       "</table>\n",
       "<p>5 rows × 21 columns</p>\n",
       "</div>"
      ],
      "text/plain": [
       "        age       sex    trtbps      chol       fbs   restecg  thalachh  \\\n",
       "0  0.952197  0.681005  0.763956 -0.256334  2.394438 -1.005832  0.015443   \n",
       "1 -1.915313  0.681005 -0.092738  0.072199 -0.417635  0.898962  1.633471   \n",
       "2 -1.474158 -1.468418 -0.092738 -0.816773 -0.417635 -1.005832  0.977514   \n",
       "3  0.180175  0.681005 -0.663867 -0.198357 -0.417635  0.898962  1.239897   \n",
       "4  0.290464 -1.468418 -0.663867  2.082050 -0.417635  0.898962  0.583939   \n",
       "\n",
       "       exng   oldpeak       caa  ...      CP_1      CP_2      CP_3      SL_0  \\\n",
       "0 -0.696631  1.087338 -0.714429  ... -0.444554 -0.634648  3.489114  3.664502   \n",
       "1 -0.696631  2.122573 -0.714429  ... -0.444554  1.575677 -0.286606  3.664502   \n",
       "2 -0.696631  0.310912 -0.714429  ...  2.249444 -0.634648 -0.286606 -0.272888   \n",
       "3 -0.696631 -0.206705 -0.714429  ...  2.249444 -0.634648 -0.286606 -0.272888   \n",
       "4  1.435481 -0.379244 -0.714429  ... -0.444554 -0.634648 -0.286606 -0.272888   \n",
       "\n",
       "       SL_1      SL_2      TH_0      TH_1      TH_2      TH_3  \n",
       "0 -0.926766 -0.939142 -0.081514  3.979112 -1.100763 -0.793116  \n",
       "1 -0.926766 -0.939142 -0.081514 -0.251312  0.908461 -0.793116  \n",
       "2 -0.926766  1.064802 -0.081514 -0.251312  0.908461 -0.793116  \n",
       "3 -0.926766  1.064802 -0.081514 -0.251312  0.908461 -0.793116  \n",
       "4 -0.926766  1.064802 -0.081514 -0.251312  0.908461 -0.793116  \n",
       "\n",
       "[5 rows x 21 columns]"
      ]
     },
     "execution_count": 113,
     "metadata": {},
     "output_type": "execute_result"
    }
   ],
   "source": [
    "# Scaling the data using the Standard Scaler\n",
    "X, y = preprocess_inputs(df, StandardScaler())\n",
    "\n",
    "X.head()"
   ]
  },
  {
   "cell_type": "code",
   "execution_count": 155,
   "metadata": {},
   "outputs": [
    {
     "data": {
      "text/html": [
       "<div>\n",
       "<style scoped>\n",
       "    .dataframe tbody tr th:only-of-type {\n",
       "        vertical-align: middle;\n",
       "    }\n",
       "\n",
       "    .dataframe tbody tr th {\n",
       "        vertical-align: top;\n",
       "    }\n",
       "\n",
       "    .dataframe thead th {\n",
       "        text-align: right;\n",
       "    }\n",
       "</style>\n",
       "<table border=\"1\" class=\"dataframe\">\n",
       "  <thead>\n",
       "    <tr style=\"text-align: right;\">\n",
       "      <th></th>\n",
       "      <th>age</th>\n",
       "      <th>sex</th>\n",
       "      <th>trtbps</th>\n",
       "      <th>chol</th>\n",
       "      <th>fbs</th>\n",
       "      <th>restecg</th>\n",
       "      <th>thalachh</th>\n",
       "      <th>exng</th>\n",
       "      <th>oldpeak</th>\n",
       "      <th>caa</th>\n",
       "      <th>...</th>\n",
       "      <th>CP_1</th>\n",
       "      <th>CP_2</th>\n",
       "      <th>CP_3</th>\n",
       "      <th>SL_0</th>\n",
       "      <th>SL_1</th>\n",
       "      <th>SL_2</th>\n",
       "      <th>TH_0</th>\n",
       "      <th>TH_1</th>\n",
       "      <th>TH_2</th>\n",
       "      <th>TH_3</th>\n",
       "    </tr>\n",
       "  </thead>\n",
       "  <tbody>\n",
       "    <tr>\n",
       "      <th>0</th>\n",
       "      <td>0.708333</td>\n",
       "      <td>1.0</td>\n",
       "      <td>0.481132</td>\n",
       "      <td>0.244292</td>\n",
       "      <td>1.0</td>\n",
       "      <td>0.0</td>\n",
       "      <td>0.603053</td>\n",
       "      <td>0.0</td>\n",
       "      <td>0.370968</td>\n",
       "      <td>0.0</td>\n",
       "      <td>...</td>\n",
       "      <td>0.0</td>\n",
       "      <td>0.0</td>\n",
       "      <td>1.0</td>\n",
       "      <td>1.0</td>\n",
       "      <td>0.0</td>\n",
       "      <td>0.0</td>\n",
       "      <td>0.0</td>\n",
       "      <td>1.0</td>\n",
       "      <td>0.0</td>\n",
       "      <td>0.0</td>\n",
       "    </tr>\n",
       "    <tr>\n",
       "      <th>1</th>\n",
       "      <td>0.166667</td>\n",
       "      <td>1.0</td>\n",
       "      <td>0.339623</td>\n",
       "      <td>0.283105</td>\n",
       "      <td>0.0</td>\n",
       "      <td>0.5</td>\n",
       "      <td>0.885496</td>\n",
       "      <td>0.0</td>\n",
       "      <td>0.564516</td>\n",
       "      <td>0.0</td>\n",
       "      <td>...</td>\n",
       "      <td>0.0</td>\n",
       "      <td>1.0</td>\n",
       "      <td>0.0</td>\n",
       "      <td>1.0</td>\n",
       "      <td>0.0</td>\n",
       "      <td>0.0</td>\n",
       "      <td>0.0</td>\n",
       "      <td>0.0</td>\n",
       "      <td>1.0</td>\n",
       "      <td>0.0</td>\n",
       "    </tr>\n",
       "    <tr>\n",
       "      <th>2</th>\n",
       "      <td>0.250000</td>\n",
       "      <td>0.0</td>\n",
       "      <td>0.339623</td>\n",
       "      <td>0.178082</td>\n",
       "      <td>0.0</td>\n",
       "      <td>0.0</td>\n",
       "      <td>0.770992</td>\n",
       "      <td>0.0</td>\n",
       "      <td>0.225806</td>\n",
       "      <td>0.0</td>\n",
       "      <td>...</td>\n",
       "      <td>1.0</td>\n",
       "      <td>0.0</td>\n",
       "      <td>0.0</td>\n",
       "      <td>0.0</td>\n",
       "      <td>0.0</td>\n",
       "      <td>1.0</td>\n",
       "      <td>0.0</td>\n",
       "      <td>0.0</td>\n",
       "      <td>1.0</td>\n",
       "      <td>0.0</td>\n",
       "    </tr>\n",
       "    <tr>\n",
       "      <th>3</th>\n",
       "      <td>0.562500</td>\n",
       "      <td>1.0</td>\n",
       "      <td>0.245283</td>\n",
       "      <td>0.251142</td>\n",
       "      <td>0.0</td>\n",
       "      <td>0.5</td>\n",
       "      <td>0.816794</td>\n",
       "      <td>0.0</td>\n",
       "      <td>0.129032</td>\n",
       "      <td>0.0</td>\n",
       "      <td>...</td>\n",
       "      <td>1.0</td>\n",
       "      <td>0.0</td>\n",
       "      <td>0.0</td>\n",
       "      <td>0.0</td>\n",
       "      <td>0.0</td>\n",
       "      <td>1.0</td>\n",
       "      <td>0.0</td>\n",
       "      <td>0.0</td>\n",
       "      <td>1.0</td>\n",
       "      <td>0.0</td>\n",
       "    </tr>\n",
       "    <tr>\n",
       "      <th>4</th>\n",
       "      <td>0.583333</td>\n",
       "      <td>0.0</td>\n",
       "      <td>0.245283</td>\n",
       "      <td>0.520548</td>\n",
       "      <td>0.0</td>\n",
       "      <td>0.5</td>\n",
       "      <td>0.702290</td>\n",
       "      <td>1.0</td>\n",
       "      <td>0.096774</td>\n",
       "      <td>0.0</td>\n",
       "      <td>...</td>\n",
       "      <td>0.0</td>\n",
       "      <td>0.0</td>\n",
       "      <td>0.0</td>\n",
       "      <td>0.0</td>\n",
       "      <td>0.0</td>\n",
       "      <td>1.0</td>\n",
       "      <td>0.0</td>\n",
       "      <td>0.0</td>\n",
       "      <td>1.0</td>\n",
       "      <td>0.0</td>\n",
       "    </tr>\n",
       "  </tbody>\n",
       "</table>\n",
       "<p>5 rows × 21 columns</p>\n",
       "</div>"
      ],
      "text/plain": [
       "        age  sex    trtbps      chol  fbs  restecg  thalachh  exng   oldpeak  \\\n",
       "0  0.708333  1.0  0.481132  0.244292  1.0      0.0  0.603053   0.0  0.370968   \n",
       "1  0.166667  1.0  0.339623  0.283105  0.0      0.5  0.885496   0.0  0.564516   \n",
       "2  0.250000  0.0  0.339623  0.178082  0.0      0.0  0.770992   0.0  0.225806   \n",
       "3  0.562500  1.0  0.245283  0.251142  0.0      0.5  0.816794   0.0  0.129032   \n",
       "4  0.583333  0.0  0.245283  0.520548  0.0      0.5  0.702290   1.0  0.096774   \n",
       "\n",
       "   caa  ...  CP_1  CP_2  CP_3  SL_0  SL_1  SL_2  TH_0  TH_1  TH_2  TH_3  \n",
       "0  0.0  ...   0.0   0.0   1.0   1.0   0.0   0.0   0.0   1.0   0.0   0.0  \n",
       "1  0.0  ...   0.0   1.0   0.0   1.0   0.0   0.0   0.0   0.0   1.0   0.0  \n",
       "2  0.0  ...   1.0   0.0   0.0   0.0   0.0   1.0   0.0   0.0   1.0   0.0  \n",
       "3  0.0  ...   1.0   0.0   0.0   0.0   0.0   1.0   0.0   0.0   1.0   0.0  \n",
       "4  0.0  ...   0.0   0.0   0.0   0.0   0.0   1.0   0.0   0.0   1.0   0.0  \n",
       "\n",
       "[5 rows x 21 columns]"
      ]
     },
     "execution_count": 155,
     "metadata": {},
     "output_type": "execute_result"
    }
   ],
   "source": [
    "# Scaling the data using MinMax Scaler \n",
    "X, y = preprocess_inputs(df, MinMaxScaler())\n",
    "X.head()"
   ]
  },
  {
   "cell_type": "code",
   "execution_count": 110,
   "metadata": {},
   "outputs": [],
   "source": [
    "# To store the newDF into the HD5 and CSV file\n",
    "# h5File = \"heart_problem.h5\";\n",
    "\n",
    "\n",
    "X.to_csv(\"heart_problem.csv\", sep='\\t')\n",
    "X.to_hdf(\"heart_problem.h5\", \"/data\")\n",
    "\n",
    "# df1 = pd.read_hdf(\"heart_problem.h5\", \"/data\");\n",
    "# print(\"DataFrame read from the HDF5 file through pandas:\");\n",
    "# print(df1);"
   ]
  },
  {
   "cell_type": "markdown",
   "metadata": {
    "id": "H70zLCWXJGKS"
   },
   "source": [
    "**Observation**\n",
    "\n",
    "\n",
    "*   The quantile transformer does have a different distribution among the others Tested\n",
    "*   What we can basically conlude in terms of probably replacing missing values is to use mean (temporarily)\n",
    "\n"
   ]
  },
  {
   "cell_type": "markdown",
   "metadata": {
    "id": "qPTDmWVcpT5Z"
   },
   "source": [
    "# Training & Testing the models"
   ]
  },
  {
   "cell_type": "code",
   "execution_count": 115,
   "metadata": {
    "id": "grTUg2O77fGB",
    "scrolled": false
   },
   "outputs": [
    {
     "data": {
      "text/plain": [
       "0      1\n",
       "1      1\n",
       "2      1\n",
       "3      1\n",
       "4      1\n",
       "      ..\n",
       "298    0\n",
       "299    0\n",
       "300    0\n",
       "301    0\n",
       "302    0\n",
       "Name: output, Length: 303, dtype: int64"
      ]
     },
     "execution_count": 115,
     "metadata": {},
     "output_type": "execute_result"
    }
   ],
   "source": [
    "y # our target column of prediction"
   ]
  },
  {
   "cell_type": "code",
   "execution_count": 116,
   "metadata": {},
   "outputs": [],
   "source": [
    "# Traing the data\n",
    "X_train, X_test, y_train, y_test = train_test_split(X, y, train_size=0.8, random_state=0)"
   ]
  },
  {
   "cell_type": "code",
   "execution_count": 117,
   "metadata": {
    "scrolled": true
   },
   "outputs": [
    {
     "name": "stdout",
     "output_type": "stream",
     "text": [
      "Logistic Regression Accuracy: 86.89%\n"
     ]
    }
   ],
   "source": [
    "# Testing Linear Regression Model\n",
    "lr_model = LogisticRegression()\n",
    "lr_model.fit(X_train, y_train)\n",
    "\n",
    "print(\"Logistic Regression Accuracy: {:.2f}%\".format(lr_model.score(X_test, y_test) * 100))"
   ]
  },
  {
   "cell_type": "code",
   "execution_count": 122,
   "metadata": {},
   "outputs": [
    {
     "name": "stdout",
     "output_type": "stream",
     "text": [
      "Support Vector Machine Accuracy: 88.52%\n"
     ]
    }
   ],
   "source": [
    "# Testing Support vector Machine Model\n",
    "svm_model = SVC()\n",
    "svm_model.fit(X_train, y_train)\n",
    "\n",
    "print(\"Support Vector Machine Accuracy: {:.2f}%\".format(svm_model.score(X_test, y_test) * 100))"
   ]
  },
  {
   "cell_type": "code",
   "execution_count": 127,
   "metadata": {
    "scrolled": true
   },
   "outputs": [
    {
     "name": "stdout",
     "output_type": "stream",
     "text": [
      "K-Nieghbours: 85.25%\n"
     ]
    }
   ],
   "source": [
    "# Testing KNN Model\n",
    "Knn_model = KNeighborsClassifier()\n",
    "Knn_model.fit(X_train, y_train)\n",
    "\n",
    "print(\"K-Nieghbours: {:.2f}%\".format(Knn_model.score(X_test, y_test) * 100))"
   ]
  },
  {
   "cell_type": "code",
   "execution_count": 153,
   "metadata": {},
   "outputs": [
    {
     "data": {
      "image/png": "[encoded data removed]",
      "text/plain": [
       "<Figure size 720x288 with 1 Axes>"
      ]
     },
     "metadata": {},
     "output_type": "display_data"
    }
   ],
   "source": [
    "Model = ['Logistic Regression','SVM','KNN']\n",
    "color = ['lightblue','blue','silver']\n",
    "knnScore = Knn_model.score(X_test, y_test) * 100\n",
    "svmScore = svm_model.score(X_test, y_test) * 100\n",
    "lrScore = lr_model.score(X_test, y_test) * 100\n",
    "\n",
    "accuracyScore = [lrScore,svmScore,knnScore] \n",
    "\n",
    "model_ev = pd.DataFrame({'Model': Model, 'Accuracy': accuracyScore })\n",
    "\n",
    "plt.figure(figsize=(10,4))\n",
    "plt.title(\"barplot accuracy of different models\")\n",
    "plt.xlabel(\"Accuracy %\")\n",
    "plt.ylabel(\"Models\")\n",
    "plt.bar(model_ev['Model'],model_ev['Accuracy'], color=color)\n",
    "plt.show()\n"
   ]
  },
  {
   "cell_type": "markdown",
   "metadata": {
    "id": "ef-qpcS8QqQX"
   },
   "source": [
    "# Conlusion"
   ]
  },
  {
   "cell_type": "code",
   "execution_count": null,
   "metadata": {},
   "outputs": [],
   "source": []
  }
 ],
 "metadata": {
  "colab": {
   "collapsed_sections": [],
   "name": "Data Prep Final Project.ipynb",
   "provenance": []
  },
  "kernelspec": {
   "display_name": "Python 3 (ipykernel)",
   "language": "python",
   "name": "python3"
  },
  "language_info": {
   "codemirror_mode": {
    "name": "ipython",
    "version": 3
   },
   "file_extension": ".py",
   "mimetype": "text/x-python",
   "name": "python",
   "nbconvert_exporter": "python",
   "pygments_lexer": "ipython3",
   "version": "3.9.7"
  }
 },
 "nbformat": 4,
 "nbformat_minor": 1
}
